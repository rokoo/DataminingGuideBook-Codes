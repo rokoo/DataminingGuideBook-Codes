{
 "cells": [
  {
   "cell_type": "code",
   "execution_count": 1,
   "metadata": {
    "collapsed": true
   },
   "outputs": [],
   "source": [
    "from math import sqrt\n",
    "\n",
    "users = {\"Angelica\": {\"Blues Traveler\": 3.5, \"Broken Bells\": 2.0, \"Norah Jones\": 4.5, \"Phoenix\": 5.0, \"Slightly Stoopid\": 1.5, \"The Strokes\": 2.5, \"Vampire Weekend\": 2.0},\n",
    "         \"Bill\":{\"Blues Traveler\": 2.0, \"Broken Bells\": 3.5, \"Deadmau5\": 4.0, \"Phoenix\": 2.0, \"Slightly Stoopid\": 3.5, \"Vampire Weekend\": 3.0},\n",
    "         \"Chan\": {\"Blues Traveler\": 5.0, \"Broken Bells\": 1.0, \"Deadmau5\": 1.0, \"Norah Jones\": 3.0, \"Phoenix\": 5, \"Slightly Stoopid\": 1.0},\n",
    "         \"Dan\": {\"Blues Traveler\": 3.0, \"Broken Bells\": 4.0, \"Deadmau5\": 4.5, \"Phoenix\": 3.0, \"Slightly Stoopid\": 4.5, \"The Strokes\": 4.0, \"Vampire Weekend\": 2.0},\n",
    "         \"Hailey\": {\"Broken Bells\": 4.0, \"Deadmau5\": 1.0, \"Norah Jones\": 4.0, \"The Strokes\": 4.0, \"Vampire Weekend\": 1.0},\n",
    "         \"Jordyn\":  {\"Broken Bells\": 4.5, \"Deadmau5\": 4.0, \"Norah Jones\": 5.0, \"Phoenix\": 5.0, \"Slightly Stoopid\": 4.5, \"The Strokes\": 4.0, \"Vampire Weekend\": 4.0},\n",
    "         \"Sam\": {\"Blues Traveler\": 5.0, \"Broken Bells\": 2.0, \"Norah Jones\": 3.0, \"Phoenix\": 5.0, \"Slightly Stoopid\": 4.0, \"The Strokes\": 5.0},\n",
    "         \"Veronica\": {\"Blues Traveler\": 3.0, \"Norah Jones\": 5.0, \"Phoenix\": 4.0, \"Slightly Stoopid\": 2.5, \"The Strokes\": 3.0}\n",
    "        }"
   ]
  },
  {
   "cell_type": "code",
   "execution_count": 2,
   "metadata": {},
   "outputs": [
    {
     "data": {
      "text/plain": [
       "{'Angelica': {'Blues Traveler': 3.5,\n",
       "  'Broken Bells': 2.0,\n",
       "  'Norah Jones': 4.5,\n",
       "  'Phoenix': 5.0,\n",
       "  'Slightly Stoopid': 1.5,\n",
       "  'The Strokes': 2.5,\n",
       "  'Vampire Weekend': 2.0},\n",
       " 'Bill': {'Blues Traveler': 2.0,\n",
       "  'Broken Bells': 3.5,\n",
       "  'Deadmau5': 4.0,\n",
       "  'Phoenix': 2.0,\n",
       "  'Slightly Stoopid': 3.5,\n",
       "  'Vampire Weekend': 3.0},\n",
       " 'Chan': {'Blues Traveler': 5.0,\n",
       "  'Broken Bells': 1.0,\n",
       "  'Deadmau5': 1.0,\n",
       "  'Norah Jones': 3.0,\n",
       "  'Phoenix': 5,\n",
       "  'Slightly Stoopid': 1.0},\n",
       " 'Dan': {'Blues Traveler': 3.0,\n",
       "  'Broken Bells': 4.0,\n",
       "  'Deadmau5': 4.5,\n",
       "  'Phoenix': 3.0,\n",
       "  'Slightly Stoopid': 4.5,\n",
       "  'The Strokes': 4.0,\n",
       "  'Vampire Weekend': 2.0},\n",
       " 'Hailey': {'Broken Bells': 4.0,\n",
       "  'Deadmau5': 1.0,\n",
       "  'Norah Jones': 4.0,\n",
       "  'The Strokes': 4.0,\n",
       "  'Vampire Weekend': 1.0},\n",
       " 'Jordyn': {'Broken Bells': 4.5,\n",
       "  'Deadmau5': 4.0,\n",
       "  'Norah Jones': 5.0,\n",
       "  'Phoenix': 5.0,\n",
       "  'Slightly Stoopid': 4.5,\n",
       "  'The Strokes': 4.0,\n",
       "  'Vampire Weekend': 4.0},\n",
       " 'Sam': {'Blues Traveler': 5.0,\n",
       "  'Broken Bells': 2.0,\n",
       "  'Norah Jones': 3.0,\n",
       "  'Phoenix': 5.0,\n",
       "  'Slightly Stoopid': 4.0,\n",
       "  'The Strokes': 5.0},\n",
       " 'Veronica': {'Blues Traveler': 3.0,\n",
       "  'Norah Jones': 5.0,\n",
       "  'Phoenix': 4.0,\n",
       "  'Slightly Stoopid': 2.5,\n",
       "  'The Strokes': 3.0}}"
      ]
     },
     "execution_count": 2,
     "metadata": {},
     "output_type": "execute_result"
    }
   ],
   "source": [
    "users"
   ]
  },
  {
   "cell_type": "code",
   "execution_count": 6,
   "metadata": {
    "collapsed": true
   },
   "outputs": [],
   "source": [
    "def manhattan(rating1, rating2):\n",
    "    distance = 0\n",
    "    commonRattings = False\n",
    "    for key in rating1:\n",
    "        if key in rating2:\n",
    "            distance+= abs(rating1[key] - rating2[key])\n",
    "            commonRattings = True\n",
    "    if commonRattings:\n",
    "        return distance\n",
    "    else:\n",
    "        return -1"
   ]
  },
  {
   "cell_type": "code",
   "execution_count": 4,
   "metadata": {
    "collapsed": true
   },
   "outputs": [],
   "source": [
    "def computeNearestNeighbor(username, users):\n",
    "    \"\"\"creates a sorted list of users based on their distance to username\"\"\"\n",
    "    distances = []\n",
    "    for user in users:\n",
    "        if user != username:\n",
    "            distance = manhattan(users[user], users[username])\n",
    "            distances.append((distance, user))\n",
    "    # sort based on distance -- closest first\n",
    "    distances.sort()\n",
    "    return distances\n",
    "\n",
    "def recommend(username, users):\n",
    "    \"\"\"Give list of recommendations\"\"\"\n",
    "    # first find nearest neighbor\n",
    "    nearest = computeNearestNeighbor(username, users)[0][1]\n",
    "\n",
    "    recommendations = []\n",
    "    # now find bands neighbor rated that user didn't\n",
    "    neighborRatings = users[nearest]\n",
    "    userRatings = users[username]\n",
    "    for artist in neighborRatings:\n",
    "        if not artist in userRatings:\n",
    "            recommendations.append((artist, neighborRatings[artist]))\n",
    "    # using the fn sorted for variety - sort is more efficient\n",
    "    return sorted(recommendations, key=lambda artistTuple: artistTuple[1], reverse = True)"
   ]
  },
  {
   "cell_type": "code",
   "execution_count": 7,
   "metadata": {},
   "outputs": [
    {
     "name": "stdout",
     "output_type": "stream",
     "text": [
      "[('Phoenix', 4.0), ('Blues Traveler', 3.0), ('Slightly Stoopid', 2.5)]\n"
     ]
    }
   ],
   "source": [
    "print(recommend('Hailey', users))"
   ]
  },
  {
   "cell_type": "code",
   "execution_count": null,
   "metadata": {
    "collapsed": true
   },
   "outputs": [],
   "source": []
  }
 ],
 "metadata": {
  "kernelspec": {
   "display_name": "Python 3",
   "language": "python",
   "name": "python3"
  },
  "language_info": {
   "codemirror_mode": {
    "name": "ipython",
    "version": 3
   },
   "file_extension": ".py",
   "mimetype": "text/x-python",
   "name": "python",
   "nbconvert_exporter": "python",
   "pygments_lexer": "ipython3",
   "version": "3.5.4"
  }
 },
 "nbformat": 4,
 "nbformat_minor": 2
}
